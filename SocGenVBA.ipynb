{
  "nbformat": 4,
  "nbformat_minor": 0,
  "metadata": {
    "colab": {
      "provenance": [],
      "authorship_tag": "ABX9TyNC6KhCRX+8QPp6FZW9/1nI",
      "include_colab_link": true
    },
    "kernelspec": {
      "name": "python3",
      "display_name": "Python 3"
    },
    "language_info": {
      "name": "python"
    }
  },
  "cells": [
    {
      "cell_type": "markdown",
      "metadata": {
        "id": "view-in-github",
        "colab_type": "text"
      },
      "source": [
        "<a href=\"https://colab.research.google.com/github/kesavan7287/SocGenVBA/blob/main/SocGenVBA.ipynb\" target=\"_parent\"><img src=\"https://colab.research.google.com/assets/colab-badge.svg\" alt=\"Open In Colab\"/></a>"
      ]
    },
    {
      "cell_type": "code",
      "source": [
        "!pip install pymupdf cohere pinecone-client langchain langchain_pinecone langchain_cohere -q\n"
      ],
      "metadata": {
        "collapsed": true,
        "id": "0N0f7b7k-O2Q",
        "colab": {
          "base_uri": "https://localhost:8080/"
        },
        "outputId": "2d424037-92b0-4f6f-c3d8-7fa1a80a1c90"
      },
      "execution_count": null,
      "outputs": [
        {
          "output_type": "stream",
          "name": "stdout",
          "text": [
            "\u001b[2K     \u001b[90m━━━━━━━━━━━━━━━━━━━━━━━━━━━━━━━━━━━━━━━━\u001b[0m \u001b[32m3.5/3.5 MB\u001b[0m \u001b[31m18.9 MB/s\u001b[0m eta \u001b[36m0:00:00\u001b[0m\n",
            "\u001b[2K     \u001b[90m━━━━━━━━━━━━━━━━━━━━━━━━━━━━━━━━━━━━━━━━\u001b[0m \u001b[32m173.8/173.8 kB\u001b[0m \u001b[31m14.6 MB/s\u001b[0m eta \u001b[36m0:00:00\u001b[0m\n",
            "\u001b[2K     \u001b[90m━━━━━━━━━━━━━━━━━━━━━━━━━━━━━━━━━━━━━━━━\u001b[0m \u001b[32m216.4/216.4 kB\u001b[0m \u001b[31m16.7 MB/s\u001b[0m eta \u001b[36m0:00:00\u001b[0m\n",
            "\u001b[2K     \u001b[90m━━━━━━━━━━━━━━━━━━━━━━━━━━━━━━━━━━━━━━━━\u001b[0m \u001b[32m983.6/983.6 kB\u001b[0m \u001b[31m33.8 MB/s\u001b[0m eta \u001b[36m0:00:00\u001b[0m\n",
            "\u001b[2K     \u001b[90m━━━━━━━━━━━━━━━━━━━━━━━━━━━━━━━━━━━━━━━━\u001b[0m \u001b[32m15.7/15.7 MB\u001b[0m \u001b[31m65.8 MB/s\u001b[0m eta \u001b[36m0:00:00\u001b[0m\n",
            "\u001b[2K     \u001b[90m━━━━━━━━━━━━━━━━━━━━━━━━━━━━━━━━━━━━━━━━\u001b[0m \u001b[32m139.2/139.2 kB\u001b[0m \u001b[31m14.2 MB/s\u001b[0m eta \u001b[36m0:00:00\u001b[0m\n",
            "\u001b[2K     \u001b[90m━━━━━━━━━━━━━━━━━━━━━━━━━━━━━━━━━━━━━━━━\u001b[0m \u001b[32m3.1/3.1 MB\u001b[0m \u001b[31m52.0 MB/s\u001b[0m eta \u001b[36m0:00:00\u001b[0m\n",
            "\u001b[2K     \u001b[90m━━━━━━━━━━━━━━━━━━━━━━━━━━━━━━━━━━━━━━━━\u001b[0m \u001b[32m75.6/75.6 kB\u001b[0m \u001b[31m5.7 MB/s\u001b[0m eta \u001b[36m0:00:00\u001b[0m\n",
            "\u001b[2K     \u001b[90m━━━━━━━━━━━━━━━━━━━━━━━━━━━━━━━━━━━━━━━━\u001b[0m \u001b[32m366.3/366.3 kB\u001b[0m \u001b[31m30.0 MB/s\u001b[0m eta \u001b[36m0:00:00\u001b[0m\n",
            "\u001b[2K     \u001b[90m━━━━━━━━━━━━━━━━━━━━━━━━━━━━━━━━━━━━━━━━\u001b[0m \u001b[32m127.9/127.9 kB\u001b[0m \u001b[31m14.1 MB/s\u001b[0m eta \u001b[36m0:00:00\u001b[0m\n",
            "\u001b[2K     \u001b[90m━━━━━━━━━━━━━━━━━━━━━━━━━━━━━━━━━━━━━━━━\u001b[0m \u001b[32m215.9/215.9 kB\u001b[0m \u001b[31m21.2 MB/s\u001b[0m eta \u001b[36m0:00:00\u001b[0m\n",
            "\u001b[2K     \u001b[90m━━━━━━━━━━━━━━━━━━━━━━━━━━━━━━━━━━━━━━━━\u001b[0m \u001b[32m202.7/202.7 kB\u001b[0m \u001b[31m19.1 MB/s\u001b[0m eta \u001b[36m0:00:00\u001b[0m\n",
            "\u001b[2K     \u001b[90m━━━━━━━━━━━━━━━━━━━━━━━━━━━━━━━━━━━━━━━━\u001b[0m \u001b[32m12.4/12.4 MB\u001b[0m \u001b[31m75.9 MB/s\u001b[0m eta \u001b[36m0:00:00\u001b[0m\n",
            "\u001b[2K     \u001b[90m━━━━━━━━━━━━━━━━━━━━━━━━━━━━━━━━━━━━━━━━\u001b[0m \u001b[32m82.7/82.7 kB\u001b[0m \u001b[31m8.4 MB/s\u001b[0m eta \u001b[36m0:00:00\u001b[0m\n",
            "\u001b[2K     \u001b[90m━━━━━━━━━━━━━━━━━━━━━━━━━━━━━━━━━━━━━━━━\u001b[0m \u001b[32m77.9/77.9 kB\u001b[0m \u001b[31m5.6 MB/s\u001b[0m eta \u001b[36m0:00:00\u001b[0m\n",
            "\u001b[2K     \u001b[90m━━━━━━━━━━━━━━━━━━━━━━━━━━━━━━━━━━━━━━━━\u001b[0m \u001b[32m58.3/58.3 kB\u001b[0m \u001b[31m6.2 MB/s\u001b[0m eta \u001b[36m0:00:00\u001b[0m\n",
            "\u001b[2K     \u001b[90m━━━━━━━━━━━━━━━━━━━━━━━━━━━━━━━━━━━━━━━━\u001b[0m \u001b[32m2.2/2.2 MB\u001b[0m \u001b[31m67.4 MB/s\u001b[0m eta \u001b[36m0:00:00\u001b[0m\n",
            "\u001b[2K     \u001b[90m━━━━━━━━━━━━━━━━━━━━━━━━━━━━━━━━━━━━━━━━\u001b[0m \u001b[32m141.1/141.1 kB\u001b[0m \u001b[31m12.6 MB/s\u001b[0m eta \u001b[36m0:00:00\u001b[0m\n",
            "\u001b[2K     \u001b[90m━━━━━━━━━━━━━━━━━━━━━━━━━━━━━━━━━━━━━━━━\u001b[0m \u001b[32m49.2/49.2 kB\u001b[0m \u001b[31m4.8 MB/s\u001b[0m eta \u001b[36m0:00:00\u001b[0m\n",
            "\u001b[?25h"
          ]
        }
      ]
    },
    {
      "cell_type": "code",
      "execution_count": null,
      "metadata": {
        "id": "dIWs6ztRc4eD",
        "colab": {
          "base_uri": "https://localhost:8080/"
        },
        "outputId": "b2b28f9c-3698-4bad-ecab-a804b3194251"
      },
      "outputs": [
        {
          "output_type": "stream",
          "name": "stderr",
          "text": [
            "/usr/local/lib/python3.10/dist-packages/langchain_core/_api/deprecation.py:139: LangChainDeprecationWarning: The class `Cohere` was deprecated in LangChain 0.1.14 and will be removed in 0.3.0. An updated version of the class exists in the langchain-cohere package and should be used instead. To use it run `pip install -U langchain-cohere` and import as `from langchain_cohere import Cohere`.\n",
            "  warn_deprecated(\n",
            "/usr/local/lib/python3.10/dist-packages/langchain_core/_api/deprecation.py:139: LangChainDeprecationWarning: The method `Chain.run` was deprecated in langchain 0.1.0 and will be removed in 0.3.0. Use invoke instead.\n",
            "  warn_deprecated(\n"
          ]
        },
        {
          "output_type": "stream",
          "name": "stdout",
          "text": [
            "Response:  My name is Coral. I am a sophisticated chatbot that is designed to assist users by providing fact-based responses in polite, helpful, and inclusive conversations. Is there anything else you'd like to ask or discuss? \n"
          ]
        }
      ],
      "source": [
        "\n",
        "# Set environment variables\n",
        "os.environ[\"COHERE_API_KEY\"] = \"gij6DlDMOwcvn1KTlrahs34BbXiUJ88TbrF1vwOn\"\n",
        "os.environ['PINECONE_API_KEY'] = '63cc481a-df02-4a58-8dea-cc4905005f70'\n",
        "os.environ['PINECONE_ENV'] = 'gcp-starter'\n",
        "\n",
        "# Initialize Cohere client\n",
        "cohere_client = cohere.Client(api_key=os.environ[\"COHERE_API_KEY\"])\n",
        "\n",
        "# Initialize Cohere embeddings\n",
        "embeddings = CohereEmbeddings(model=\"embed-english-v3.0\")\n",
        "\n",
        "# Example documents (realistic text snippets)\n",
        "docs = column_y\n",
        "\n",
        "\n",
        "# Initialize PineconeVectorStore with documents for retrieval\n",
        "index_name = \"sg1\"\n",
        "PineconeVectorStore.from_texts(\n",
        "    texts=docs,\n",
        "    embedding=embeddings,  # Use Cohere embeddings\n",
        "    index_name=index_name,\n",
        "    metadatas = [{\"description\": f\"{i}\"} for i in column_x]\n",
        ")\n",
        "\n",
        "# Define your chat prompt template\n",
        "system_template = \"System message template: {context}\"\n",
        "human_template = \"Human message template: {question}\"\n",
        "\n",
        "messages = [\n",
        "    SystemMessagePromptTemplate.from_template(system_template),\n",
        "    HumanMessagePromptTemplate.from_template(human_template)\n",
        "]\n",
        "\n",
        "chat_prompt = ChatPromptTemplate.from_messages(messages)\n",
        "\n",
        "# Use the Cohere client directly as the LLM\n",
        "llm = Cohere(cohere_api_key=os.environ[\"COHERE_API_KEY\"])\n",
        "\n",
        "# Create your ConversationalRetrievalChain with Cohere as LLM\n",
        "qa_chain = ConversationalRetrievalChain.from_llm(\n",
        "    llm,\n",
        "    retriever=PineconeVectorStore.from_existing_index(index_name,embeddings).as_retriever(),\n",
        "    combine_docs_chain_kwargs={\"prompt\": chat_prompt},\n",
        "    chain_type=\"stuff\"  # Add chain type for Cohere\n",
        ")\n",
        "\n",
        "# Example usage\n",
        "query = \"what is your name\"\n",
        "response = qa_chain.run({\"question\": query,\"chat_history\":\"\"})\n",
        "\n",
        "print(\"Response:\", response)"
      ]
    },
    {
      "cell_type": "code",
      "source": [
        "general_system_template = r\"\"\"\n",
        "You are here to help people understand what VBA Macros do. Read through the entire macro and give the user the gist of what\n",
        "it does. Do not explain the code line by line unless asked to do so. Keep your answer within 5 bullet points or 75 words\n",
        "{context}\n",
        "\"\"\"\n",
        "general_user_template = \"Question:```{question}```\"\n",
        "messages = [\n",
        "            SystemMessagePromptTemplate.from_template(general_system_template),\n",
        "            HumanMessagePromptTemplate.from_template(general_user_template)\n",
        "]\n",
        "qa_prompt = ChatPromptTemplate.from_messages( messages )\n",
        "\n",
        "\n",
        "# Use the Cohere client directly as the LLM\n",
        "llm = Cohere(cohere_api_key=os.environ[\"COHERE_API_KEY\"])\n",
        "\n",
        "# Create your ConversationalRetrievalChain with Cohere as LLM\n",
        "qa_chain = ConversationalRetrievalChain.from_llm(\n",
        "    llm,\n",
        "    retriever=PineconeVectorStore.from_existing_index(index_name,embeddings).as_retriever(),\n",
        "    combine_docs_chain_kwargs={\"prompt\": qa_prompt},\n",
        "    chain_type=\"stuff\"  # Add chain type for Cohere\n",
        ")\n",
        "\n",
        "response = qa_chain.run({\"question\": query,\"chat_history\":\"\"})\n",
        "\n",
        "print(\"Response:\", response)"
      ],
      "metadata": {
        "colab": {
          "base_uri": "https://localhost:8080/"
        },
        "id": "MMVVcZztarBX",
        "outputId": "67a8cad6-59bb-402e-e881-5189dd7a2320"
      },
      "execution_count": null,
      "outputs": [
        {
          "output_type": "stream",
          "name": "stdout",
          "text": [
            "Response:  • This VBA macro, named Macro1, creates a new table on the active sheet and applies a specific table style to it.\n",
            "• It sets the alignment, indentation, and text wrapping options for the table's cells.\n",
            "• It removes the diagonal borders and sets the line style for the other border lines of the table's cells.\n",
            "• Finally, it selects all cells and fits the entire column width to accommodate its content. \n",
            "\n",
            "The macro is assigned a keyboard shortcut of Ctrl+r for easier access. \n"
          ]
        }
      ]
    },
    {
      "cell_type": "code",
      "source": [
        "\n",
        "response = qa_chain.run({\"question\": query,\"chat_history\":\"\"})\n",
        "\n",
        "print(\"Response:\", response)"
      ],
      "metadata": {
        "colab": {
          "base_uri": "https://localhost:8080/"
        },
        "id": "H1kOFliBG54j",
        "outputId": "a4e763af-e328-40f9-a738-d12d833c1c9e"
      },
      "execution_count": null,
      "outputs": [
        {
          "output_type": "stream",
          "name": "stdout",
          "text": [
            "Response:  The given code is for Microsoft Excel and written in Excel's Macro-Enabled Excel 4 Macro Language (XLM). \n",
            "\n",
            "Let's go through the code step by step:\n",
            "1. **Sub Macro1()** — This line defines the start of a macro named Macro1. macros in Excel are routines that can be executed to automate different tasks.\n",
            "2. **'Macro1 Macro** — This is simply a comment in the code stating that the following code is for the Macro1 macro. These comments are for human understanding and are not interpreted or executed as code.\n",
            "3. **'Keyboard shortcut: Ctrl+r** — This is another comment indicating that the shortcut Ctrl+r can be used to trigger this macro.\n",
            "4. **Dim rng As Range** — This line declares a variable named rng of type Range. The Range object in Excel VBA represents a cell or a range of cells on a worksheet.\n",
            "5. **Set rng = ActiveSheet.Range(“A1”).CurrentRegion** — Here, the rng variable is set to refer to the current region of the range A1 (i.e., the entire row). CurrentRegion automatically selects the entire rectangular area encompassing the largest displayed area in a range.\n",
            "\n"
          ]
        }
      ]
    },
    {
      "cell_type": "code",
      "source": [
        "!pip install -qU langchain-cohere oletools"
      ],
      "metadata": {
        "colab": {
          "base_uri": "https://localhost:8080/"
        },
        "id": "aaVNig4mkxJH",
        "outputId": "3aec1e57-689f-4c3b-e882-ef78d61e71f2"
      },
      "execution_count": null,
      "outputs": [
        {
          "output_type": "stream",
          "name": "stdout",
          "text": [
            "\u001b[2K     \u001b[90m━━━━━━━━━━━━━━━━━━━━━━━━━━━━━━━━━━━━━━━━\u001b[0m \u001b[32m989.4/989.4 kB\u001b[0m \u001b[31m9.6 MB/s\u001b[0m eta \u001b[36m0:00:00\u001b[0m\n",
            "\u001b[2K     \u001b[90m━━━━━━━━━━━━━━━━━━━━━━━━━━━━━━━━━━━━━━━━\u001b[0m \u001b[32m114.6/114.6 kB\u001b[0m \u001b[31m8.3 MB/s\u001b[0m eta \u001b[36m0:00:00\u001b[0m\n",
            "\u001b[2K     \u001b[90m━━━━━━━━━━━━━━━━━━━━━━━━━━━━━━━━━━━━━━━━\u001b[0m \u001b[32m92.7/92.7 kB\u001b[0m \u001b[31m9.1 MB/s\u001b[0m eta \u001b[36m0:00:00\u001b[0m\n",
            "\u001b[2K     \u001b[90m━━━━━━━━━━━━━━━━━━━━━━━━━━━━━━━━━━━━━━━━\u001b[0m \u001b[32m48.1/48.1 kB\u001b[0m \u001b[31m4.4 MB/s\u001b[0m eta \u001b[36m0:00:00\u001b[0m\n",
            "\u001b[?25h"
          ]
        }
      ]
    },
    {
      "cell_type": "code",
      "source": [
        "import os\n",
        "import cohere\n",
        "from langchain_pinecone import PineconeVectorStore\n",
        "from langchain.chains import ConversationalRetrievalChain\n",
        "from langchain.prompts.chat import ChatPromptTemplate, SystemMessagePromptTemplate, HumanMessagePromptTemplate\n",
        "from langchain_cohere import CohereEmbeddings\n",
        "# from langchain.llms import Cohere  # Import Cohere from langchain.llms\n",
        "from langchain_cohere.llms import Cohere\n",
        "from langchain_core.messages import SystemMessage"
      ],
      "metadata": {
        "id": "NAtA7U8ujpcj"
      },
      "execution_count": null,
      "outputs": []
    },
    {
      "cell_type": "code",
      "source": [
        "import bs4\n",
        "from langchain.chains import create_history_aware_retriever, create_retrieval_chain\n",
        "from langchain.chains.combine_documents import create_stuff_documents_chain\n",
        "from langchain_community.chat_message_histories import ChatMessageHistory\n",
        "from langchain_core.chat_history import BaseChatMessageHistory\n",
        "from langchain_core.prompts import ChatPromptTemplate, MessagesPlaceholder\n",
        "from langchain_core.runnables.history import RunnableWithMessageHistory\n",
        "from langchain_core.output_parsers import StrOutputParser"
      ],
      "metadata": {
        "id": "ENlHU_tAhS-R"
      },
      "execution_count": null,
      "outputs": []
    },
    {
      "cell_type": "code",
      "source": [
        "# PDF reader\n",
        "import pymupdf\n",
        "\n",
        "# Open some document, for example a PDF (could also be EPUB, XPS, etc.)\n",
        "doc = pymupdf.open(\"/content/VBA_Cheatsheet_Zero_To_Mastery_V1.01.pdf\")\n",
        "\n",
        "# Load a desired page. This works via 0-based numbers\n",
        "page = doc[11]  # this is the first page\n",
        "\n",
        "# Look for tables on this page and display the table count\n",
        "tabs = page.find_tables()\n",
        "print(f\"{len(tabs.tables)} table(s) on {page}\")\n",
        "tab = tabs[1]\n",
        "column_x = []\n",
        "column_y = []\n",
        "c = 0\n",
        "for line in tab.extract():\n",
        "  if c==0:\n",
        "    c+=1\n",
        "    continue\n",
        "\n",
        "  column_x.append(line[0])\n",
        "  column_y.append(line[-3])\n",
        "\n",
        "print(column_x)\n",
        "print(column_y)"
      ],
      "metadata": {
        "colab": {
          "base_uri": "https://localhost:8080/"
        },
        "id": "xencLuYDVPU9",
        "outputId": "e474a599-bc53-4d17-c6fa-dfe13286b7cf"
      },
      "execution_count": null,
      "outputs": [
        {
          "output_type": "stream",
          "name": "stdout",
          "text": [
            "2 table(s) on page 11 of /content/VBA_Cheatsheet_Zero_To_Mastery_V1.01.pdf\n",
            "['Target a single cell using a hard-coded\\nreference', 'Target multiple cells using a hard-coded\\nreference', 'Print the value of a cell using a hard-\\ncoded reference', 'Set the value of a cell using a hard-\\ncoded reference', 'Print the value of the active cell', 'Set the value of the active cell', 'Print the value of the cell 1 row below,\\nand 2 columns to the right, of the active\\ncell']\n",
            "['Range(“A1”)', 'Range(“A1:C3”)', 'MsgBox(Range(“A1”).Value)', 'Range(“A1”).Value = 11', 'MsgBox(ActiveCell.Value)', 'ActiveCell.Value = 22', 'MsgBox(ActiveCell.Offset(1,2))']\n"
          ]
        }
      ]
    },
    {
      "cell_type": "code",
      "source": [
        "os.environ[\"COHERE_API_KEY\"] = \"gij6DlDMOwcvn1KTlrahs34BbXiUJ88TbrF1vwOn\"\n",
        "os.environ['PINECONE_API_KEY'] = '63cc481a-df02-4a58-8dea-cc4905005f70'\n",
        "os.environ['PINECONE_ENV'] = 'gcp-starter'\n",
        "\n",
        "# Initialize Cohere client\n",
        "cohere_client = cohere.Client(api_key=os.environ[\"COHERE_API_KEY\"])\n",
        "\n",
        "# Initialize Cohere embeddings\n",
        "embeddings = CohereEmbeddings(model=\"embed-english-v3.0\")\n",
        "\n",
        "# Example documents (realistic text snippets)\n",
        "docs = column_y\n",
        "\n",
        "\n",
        "# Initialize PineconeVectorStore with documents for retrieval\n",
        "index_name = \"sg1\"\n",
        "PineconeVectorStore.from_texts(\n",
        "    texts=docs,\n",
        "    embedding=embeddings,  # Use Cohere embeddings\n",
        "    index_name=index_name,\n",
        "    metadatas = [{\"description\": f\"{i}\"} for i in column_x]\n",
        ")\n"
      ],
      "metadata": {
        "id": "ALFxMJCvR5ns",
        "colab": {
          "base_uri": "https://localhost:8080/"
        },
        "outputId": "3c0dd855-bd43-4f1c-c57e-5ca84c4f6cf3"
      },
      "execution_count": null,
      "outputs": [
        {
          "output_type": "execute_result",
          "data": {
            "text/plain": [
              "<langchain_pinecone.vectorstores.PineconeVectorStore at 0x7ac13926f790>"
            ]
          },
          "metadata": {},
          "execution_count": 14
        }
      ]
    },
    {
      "cell_type": "code",
      "source": [
        "# prompt: get a vba code from xlsx file\n",
        "\n",
        "from oletools.olevba import VBA_Parser, TYPE_OLE, TYPE_OpenXML, TYPE_Word2003_XML, TYPE_MHTML\n",
        "import zipfile\n",
        "\n",
        "def extract_vba(filename):\n",
        "  vba_parser = VBA_Parser(filename)\n",
        "  if vba_parser.detect_vba_macros():\n",
        "    for (filename, stream_path, vba_filename, vba_code) in vba_parser.extract_macros():\n",
        "      query=vba_code\n",
        "      break\n",
        "  else:\n",
        "    print('No VBA macros found.')\n",
        "\n",
        "# Replace 'your_excel_file.xlsm' with the actual path to your Excel file\n",
        "extract_vba('/content/Excel_Macros_Chart_XelPlus.xlsm')\n"
      ],
      "metadata": {
        "id": "iB7AMRC_4aV6"
      },
      "execution_count": null,
      "outputs": []
    },
    {
      "cell_type": "code",
      "source": [
        "general_system_template = r\"\"\"\n",
        "You are here to help people understand what VBA Macros do. Read through the entire macro and give the user the gist of what\n",
        "it does. Do not explain the code line by line unless asked to do so. Keep your answer within 5 bullet points or 75 words\n",
        "{context}\n",
        "\"\"\"\n",
        "general_user_template = \"Question:```{question}```\"\n",
        "messages = [\n",
        "            SystemMessagePromptTemplate.from_template(general_system_template),\n",
        "            HumanMessagePromptTemplate.from_template(general_user_template)\n",
        "]\n",
        "qa_prompt = ChatPromptTemplate.from_messages( messages )\n",
        "\n",
        "\n",
        "# Use the Cohere client directly as the LLM\n",
        "llm = Cohere(cohere_api_key=os.environ[\"COHERE_API_KEY\"])\n",
        "retriever=PineconeVectorStore.from_existing_index(embedding=embeddings, index_name='sg1').as_retriever()\n",
        "# Create your ConversationalRetrievalChain with Cohere as LLM\n",
        "\n",
        "\n",
        "### Contextualize question ###\n",
        "contextualize_q_system_prompt = \"\"\"You are here to help people understand what VBA Macros do. \\\n",
        "Given a chat history and the latest user question \\\n",
        "which might reference context in the chat history, formulate a standalone question \\\n",
        "which can be understood without the chat history. Do NOT answer the question, \\\n",
        "just reformulate it if needed and otherwise return it as is.\n",
        "{question}\"\"\"\n",
        "contextualize_q_prompt = ChatPromptTemplate.from_messages(\n",
        "    [\n",
        "        (\"system\", contextualize_q_system_prompt),\n",
        "        MessagesPlaceholder(\"chat_history\"),\n",
        "        (\"human\", \"{input}\"),\n",
        "    ]\n",
        ")\n",
        "history_aware_retriever = create_history_aware_retriever(\n",
        "    llm, retriever, contextualize_q_prompt\n",
        ")\n",
        "\n",
        "\n",
        "### Answer question ###\n",
        "qa_system_prompt = \"\"\"You are here to help people understand what VBA Macros do. Read through the entire macro and \\\n",
        "give the user the gist of what it does. Do not explain the code line by line unless asked to do so. \\\n",
        "Keep your answer within 75 words\\\n",
        "Do not try to run the code \\\n",
        "If the user asks about a specific macro by name, give the latest record about the macro \\\n",
        "unless they ask for previous versions \\\n",
        "Return the answer in the following format if you can: \\\n",
        "Macro Name: 'name of macro' \\\n",
        "Macro Use: 'formatting, aggregating, etc.' \\\n",
        "Macro Description: 'Description' \\\n",
        "Make sure the what you return is formatted correctly. \\\n",
        "Do not give newline characters in your responses \\\n",
        "Use the following pieces of retrieved context to answer the question. \\\n",
        "If you don't know the answer, just say that you don't know. \\\n",
        "keep the answer concise.\\\n",
        "\n",
        "{context}\"\"\"\n",
        "qa_prompt = ChatPromptTemplate.from_messages(\n",
        "    [\n",
        "        (\"system\", qa_system_prompt),\n",
        "        MessagesPlaceholder(\"chat_history\"),\n",
        "        (\"human\", \"{input}\"),\n",
        "    ]\n",
        ")\n",
        "question_answer_chain = create_stuff_documents_chain(llm, qa_prompt)\n",
        "\n",
        "rag_chain = create_retrieval_chain(history_aware_retriever, question_answer_chain)\n",
        "\n",
        "\n",
        "### Statefully manage chat history ###\n",
        "store = {}\n",
        "\n",
        "\n",
        "def get_session_history(session_id: str) -> BaseChatMessageHistory:\n",
        "    if session_id not in store:\n",
        "        store[session_id] = ChatMessageHistory()\n",
        "    return store[session_id]\n",
        "\n",
        "\n",
        "conversational_rag_chain = RunnableWithMessageHistory(\n",
        "    rag_chain,\n",
        "    get_session_history,\n",
        "    input_messages_key=\"input\",\n",
        "    history_messages_key=\"chat_history\",\n",
        "    output_messages_key=\"answer\",\n",
        "    output_parser=StrOutputParser(),\n",
        ")\n",
        "# response = conversational_rag_chain.invoke({\"question\": query, \"context\": \"formatting tables\"})\n",
        "response = conversational_rag_chain.invoke(\n",
        "    {\"input\": query, \"context\": \"formatting tables\"},\n",
        "    config={\"configurable\": {\"session_id\": \"foo\"}}\n",
        ")\n",
        "\n",
        "response['answer']"
      ],
      "metadata": {
        "id": "1L7sqwL_KLx4",
        "colab": {
          "base_uri": "https://localhost:8080/",
          "height": 105
        },
        "outputId": "3576be5e-062d-43d4-8a0a-f09e512976bd"
      },
      "execution_count": null,
      "outputs": [
        {
          "output_type": "execute_result",
          "data": {
            "text/plain": [
              "\" Macro Name: Macro1\\n\\nMacro Use: Applies a table style to a selected range and modifies the formatting of the selection\\n\\nMacro Description: 'Applies a specific table style to the selected range and modifies the formatting of the selection. Formatting modifications include centering the text horizontally, aligning the text to the bottom vertically, turning off text wrapping, adjusting orientation, indentations, merging cells, and applying thin borders to the left, top, bottom, and right edges. Additionally, the code selects all cells and fits the entire column to the screen.' \""
            ],
            "application/vnd.google.colaboratory.intrinsic+json": {
              "type": "string"
            }
          },
          "metadata": {},
          "execution_count": 37
        }
      ]
    },
    {
      "cell_type": "code",
      "source": [
        "response['answer']"
      ],
      "metadata": {
        "colab": {
          "base_uri": "https://localhost:8080/",
          "height": 88
        },
        "id": "TIt9tQM8klWt",
        "outputId": "95e982f4-0ee3-4faa-e233-5e30956624ba"
      },
      "execution_count": null,
      "outputs": [
        {
          "output_type": "execute_result",
          "data": {
            "text/plain": [
              "\" Macro Name: Macro1\\n\\nMacro Use: Applies a table style to a selected range and modifies the formatting of the selection\\n\\nMacro Description: The 'Macro1' macro creates a table with the style 'TableStyleMedium27', and aligns the text to the center, bottom of the selected range. It also sets formatting options such as text wrap, orientation, indent, shrink to fit, reading order, merge cells, and border style for the selection. Finally, it auto-fits the entire column of the selected range. \""
            ],
            "application/vnd.google.colaboratory.intrinsic+json": {
              "type": "string"
            }
          },
          "metadata": {},
          "execution_count": 27
        }
      ]
    },
    {
      "cell_type": "code",
      "source": [
        "import re\n",
        "matc = re.search(r\"Macro Name:\\s*(.*?)\\s+Macro Use:\\s*(.*?)\\s+Macro Description:\\s*(.*)\", response['answer'])\n",
        "if matc:\n",
        "    macro_name = matc.group(1).strip()\n",
        "    macro_use = matc.group(2).strip()\n",
        "    macro_description = matc.group(3).strip()\n",
        "    print(\"Macro Name:\", macro_name)\n",
        "    print(\"Macro Use:\", macro_use)\n",
        "    print(\"Macro Description:\", macro_description)\n",
        "else:\n",
        "    print(\"Macro Name and Description not found in the response.\", response['answer'])\n",
        "\n",
        "index_name = \"logs\"\n",
        "docs = [f\"{macro_name} {macro_description}\"]\n",
        "query = [{\"vba_code\": query}]  # List of dictionaries with VBA code as metada"
      ],
      "metadata": {
        "colab": {
          "base_uri": "https://localhost:8080/"
        },
        "id": "TpBW47QT_7Kj",
        "outputId": "347b99f2-4597-46dc-f942-8ed4ee8ca10a"
      },
      "execution_count": null,
      "outputs": [
        {
          "output_type": "stream",
          "name": "stdout",
          "text": [
            "Macro Name: Macro1\n",
            "Macro Use: Applies a table style to a selected range and modifies the formatting of the selection\n",
            "Macro Description: 'Applies a specific table style to the selected range and modifies the formatting of the selection. Formatting modifications include centering the text horizontally, aligning the text to the bottom vertically, turning off text wrapping, adjusting orientation, indentations, merging cells, and applying thin borders to the left, top, bottom, and right edges. Additionally, the code selects all cells and fits the entire column to the screen.'\n"
          ]
        }
      ]
    },
    {
      "cell_type": "code",
      "source": [
        "PineconeVectorStore.from_texts(\n",
        "    texts=docs,\n",
        "    embedding=embeddings,  # Use Cohere embeddings\n",
        "    index_name=\"logs\",\n",
        "    metadatas = query\n",
        ")"
      ],
      "metadata": {
        "colab": {
          "base_uri": "https://localhost:8080/"
        },
        "id": "2ckG0NOkAtI2",
        "outputId": "2b35d4c4-23fb-4d49-c954-e2136ef681c0"
      },
      "execution_count": null,
      "outputs": [
        {
          "output_type": "execute_result",
          "data": {
            "text/plain": [
              "<langchain_pinecone.vectorstores.PineconeVectorStore at 0x7ac123cc1f60>"
            ]
          },
          "metadata": {},
          "execution_count": 40
        }
      ]
    },
    {
      "cell_type": "code",
      "source": [
        "system_template = '''You are in charge of logs of VBA macros\\\n",
        "return the code along with its name and description \\\n",
        "in the following format: \\\n",
        "Macro Name: 'name of macro' \\\n",
        "Macro Use: 'formatting, aggregating, etc.' \\\n",
        "Macro Description: 'Description' \\\n",
        "{context}'''\n",
        "human_template = \"Return the latest code: {question}\"\n",
        "\n",
        "messages = [\n",
        "    SystemMessagePromptTemplate.from_template(system_template),\n",
        "    HumanMessagePromptTemplate.from_template(human_template)\n",
        "]\n",
        "\n",
        "chat_prompt = ChatPromptTemplate.from_messages(messages)\n",
        "\n",
        "# Use the Cohere client directly as the LLM\n",
        "llm = Cohere(cohere_api_key=os.environ[\"COHERE_API_KEY\"])\n",
        "\n",
        "# Create your ConversationalRetrievalChain with Cohere as LLM\n",
        "qa_chain = ConversationalRetrievalChain.from_llm(\n",
        "    llm,\n",
        "    retriever=PineconeVectorStore.from_existing_index(embedding=embeddings, index_name='logs').as_retriever(),\n",
        "    combine_docs_chain_kwargs={\"prompt\": chat_prompt},\n",
        "    chain_type=\"stuff\"  # Add chain type for Cohere\n",
        ")\n",
        "\n",
        "# Example usage\n",
        "query = \"give macro for formatting tables\"\n",
        "response = qa_chain.run({\"question\": query,\"chat_history\":\"\"})\n",
        "\n",
        "print(\"Response:\", response)"
      ],
      "metadata": {
        "colab": {
          "base_uri": "https://localhost:8080/"
        },
        "id": "vnUbi5TU82rC",
        "outputId": "16013789-afeb-47ca-c64a-b0feda1d0447"
      },
      "execution_count": null,
      "outputs": [
        {
          "output_type": "stream",
          "name": "stderr",
          "text": [
            "/usr/local/lib/python3.10/dist-packages/langchain_core/_api/deprecation.py:139: LangChainDeprecationWarning: The method `Chain.run` was deprecated in langchain 0.1.0 and will be removed in 0.3.0. Use invoke instead.\n",
            "  warn_deprecated(\n"
          ]
        },
        {
          "output_type": "stream",
          "name": "stdout",
          "text": [
            "Response:  Macro Name: Macro1\n",
            "Macro Use: Formatting\n",
            "Macro Description: The macro applies specific table style and formatting options to a selected range on an Excel spreadsheet. It also creates a table using the Excel table feature and applies the \"TableStyleMedium27\" style to it.\n",
            "\n",
            "Sub Macro1()\n",
            "    ' Apply table style and formatting options to the selected range\n",
            "    ActiveSheet.RangeSelection.FormatConditions.AddTableStyleRange(\"TableStyleMedium27\")\n",
            "    ActiveSheet.RangeSelection.FormatCells MergeAndCenter:=True\n",
            "    ActiveSheet.RangeSelection.VerticalAlignment = xlBottom\n",
            "    ActiveSheet.RangeSelection.WrapText = False\n",
            "    ActiveSheet.RangeSelection.Orientation = xlHorizontal\n",
            "    ActiveSheet.RangeSelection.IndentationMode = xlIndentDefault\n",
            "    ActiveSheet.RangeSelection.MergingType = xlMergeCellsAll\n",
            "    ActiveSheet.RangeSelection.Borders(xlEdgeLeft).LineStyle = xlThin\n",
            "    ActiveSheet.RangeSelection.Borders(xlEdgeTop).LineStyle = xlThin\n",
            "    ActiveSheet.RangeSelection.Borders(xlEdgeBottom).LineStyle = xlThin\n",
            "    ActiveSheet.RangeSelection.Borders(xlEdgeRight).LineStyle = xlThin\n",
            "    ActiveSheet.RangeSelection.Columns.AutoFit\n",
            "End Sub\n"
          ]
        }
      ]
    }
  ]
}